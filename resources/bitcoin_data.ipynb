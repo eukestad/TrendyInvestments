{
 "cells": [
  {
   "cell_type": "code",
   "execution_count": 1,
   "metadata": {},
   "outputs": [],
   "source": [
    "import pandas as pd"
   ]
  },
  {
   "cell_type": "code",
   "execution_count": 2,
   "metadata": {},
   "outputs": [],
   "source": [
    "bitcoin1 = pd.read_csv(\"/Users/monicabustillos/Documents/CLASS/bitcoin_1617.csv\")\n",
    "bitcoin2 = pd.read_csv(\"/Users/monicabustillos/Documents/CLASS/bitcoin_1819.csv\")\n",
    "bitcoin3 = pd.read_csv(\"/Users/monicabustillos/Documents/CLASS/bitcoin_1920.csv\")\n",
    "bitcoin4 = pd.read_csv(\"/Users/monicabustillos/Documents/CLASS/bitcoin_1718.csv\")\n",
    "bitcoin5 = pd.read_csv(\"/Users/monicabustillos/Documents/CLASS/bitcoin_2021.csv\")\n"
   ]
  },
  {
   "cell_type": "code",
   "execution_count": 3,
   "metadata": {},
   "outputs": [],
   "source": [
    "list = [bitcoin2, bitcoin3, bitcoin4, bitcoin5]\n",
    "\n",
    "for df in list:\n",
    "    bitcoin1.append(df)"
   ]
  },
  {
   "cell_type": "code",
   "execution_count": 4,
   "metadata": {},
   "outputs": [
    {
     "data": {
      "text/html": [
       "<div>\n",
       "<style scoped>\n",
       "    .dataframe tbody tr th:only-of-type {\n",
       "        vertical-align: middle;\n",
       "    }\n",
       "\n",
       "    .dataframe tbody tr th {\n",
       "        vertical-align: top;\n",
       "    }\n",
       "\n",
       "    .dataframe thead th {\n",
       "        text-align: right;\n",
       "    }\n",
       "</style>\n",
       "<table border=\"1\" class=\"dataframe\">\n",
       "  <thead>\n",
       "    <tr style=\"text-align: right;\">\n",
       "      <th></th>\n",
       "      <th>Date</th>\n",
       "      <th>Open</th>\n",
       "      <th>High</th>\n",
       "      <th>Low</th>\n",
       "      <th>Close</th>\n",
       "    </tr>\n",
       "  </thead>\n",
       "  <tbody>\n",
       "    <tr>\n",
       "      <th>0</th>\n",
       "      <td>03/24/2017</td>\n",
       "      <td>1,017</td>\n",
       "      <td>1,053</td>\n",
       "      <td>1,011</td>\n",
       "      <td>952</td>\n",
       "    </tr>\n",
       "    <tr>\n",
       "      <th>1</th>\n",
       "      <td>03/23/2017</td>\n",
       "      <td>1,108</td>\n",
       "      <td>1,119</td>\n",
       "      <td>991</td>\n",
       "      <td>1,017</td>\n",
       "    </tr>\n",
       "    <tr>\n",
       "      <th>2</th>\n",
       "      <td>03/22/2017</td>\n",
       "      <td>1,043</td>\n",
       "      <td>1,118</td>\n",
       "      <td>1,035</td>\n",
       "      <td>1,108</td>\n",
       "    </tr>\n",
       "    <tr>\n",
       "      <th>3</th>\n",
       "      <td>03/21/2017</td>\n",
       "      <td>1,042</td>\n",
       "      <td>1,052</td>\n",
       "      <td>1,011</td>\n",
       "      <td>1,043</td>\n",
       "    </tr>\n",
       "    <tr>\n",
       "      <th>4</th>\n",
       "      <td>03/20/2017</td>\n",
       "      <td>982</td>\n",
       "      <td>1,059</td>\n",
       "      <td>946</td>\n",
       "      <td>1,042</td>\n",
       "    </tr>\n",
       "  </tbody>\n",
       "</table>\n",
       "</div>"
      ],
      "text/plain": [
       "         Date   Open   High    Low  Close\n",
       "0  03/24/2017  1,017  1,053  1,011    952\n",
       "1  03/23/2017  1,108  1,119    991  1,017\n",
       "2  03/22/2017  1,043  1,118  1,035  1,108\n",
       "3  03/21/2017  1,042  1,052  1,011  1,043\n",
       "4  03/20/2017    982  1,059    946  1,042"
      ]
     },
     "execution_count": 4,
     "metadata": {},
     "output_type": "execute_result"
    }
   ],
   "source": [
    "bitcoin1.head()"
   ]
  },
  {
   "cell_type": "code",
   "execution_count": 5,
   "metadata": {},
   "outputs": [],
   "source": [
    "bitcoin1 = bitcoin1.replace(',','', regex=True)"
   ]
  },
  {
   "cell_type": "code",
   "execution_count": 6,
   "metadata": {},
   "outputs": [],
   "source": [
    "bitcoin1['daily_change'] = bitcoin1['High'].astype(int)- bitcoin1['Low'].astype(int)"
   ]
  },
  {
   "cell_type": "code",
   "execution_count": 7,
   "metadata": {},
   "outputs": [
    {
     "data": {
      "text/html": [
       "<div>\n",
       "<style scoped>\n",
       "    .dataframe tbody tr th:only-of-type {\n",
       "        vertical-align: middle;\n",
       "    }\n",
       "\n",
       "    .dataframe tbody tr th {\n",
       "        vertical-align: top;\n",
       "    }\n",
       "\n",
       "    .dataframe thead th {\n",
       "        text-align: right;\n",
       "    }\n",
       "</style>\n",
       "<table border=\"1\" class=\"dataframe\">\n",
       "  <thead>\n",
       "    <tr style=\"text-align: right;\">\n",
       "      <th></th>\n",
       "      <th>Date</th>\n",
       "      <th>Open</th>\n",
       "      <th>High</th>\n",
       "      <th>Low</th>\n",
       "      <th>Close</th>\n",
       "      <th>daily_change</th>\n",
       "    </tr>\n",
       "  </thead>\n",
       "  <tbody>\n",
       "    <tr>\n",
       "      <th>0</th>\n",
       "      <td>03/24/2017</td>\n",
       "      <td>1017</td>\n",
       "      <td>1053</td>\n",
       "      <td>1011</td>\n",
       "      <td>952</td>\n",
       "      <td>42</td>\n",
       "    </tr>\n",
       "    <tr>\n",
       "      <th>1</th>\n",
       "      <td>03/23/2017</td>\n",
       "      <td>1108</td>\n",
       "      <td>1119</td>\n",
       "      <td>991</td>\n",
       "      <td>1017</td>\n",
       "      <td>128</td>\n",
       "    </tr>\n",
       "    <tr>\n",
       "      <th>2</th>\n",
       "      <td>03/22/2017</td>\n",
       "      <td>1043</td>\n",
       "      <td>1118</td>\n",
       "      <td>1035</td>\n",
       "      <td>1108</td>\n",
       "      <td>83</td>\n",
       "    </tr>\n",
       "    <tr>\n",
       "      <th>3</th>\n",
       "      <td>03/21/2017</td>\n",
       "      <td>1042</td>\n",
       "      <td>1052</td>\n",
       "      <td>1011</td>\n",
       "      <td>1043</td>\n",
       "      <td>41</td>\n",
       "    </tr>\n",
       "    <tr>\n",
       "      <th>4</th>\n",
       "      <td>03/20/2017</td>\n",
       "      <td>982</td>\n",
       "      <td>1059</td>\n",
       "      <td>946</td>\n",
       "      <td>1042</td>\n",
       "      <td>113</td>\n",
       "    </tr>\n",
       "  </tbody>\n",
       "</table>\n",
       "</div>"
      ],
      "text/plain": [
       "         Date  Open  High   Low Close  daily_change\n",
       "0  03/24/2017  1017  1053  1011   952            42\n",
       "1  03/23/2017  1108  1119   991  1017           128\n",
       "2  03/22/2017  1043  1118  1035  1108            83\n",
       "3  03/21/2017  1042  1052  1011  1043            41\n",
       "4  03/20/2017   982  1059   946  1042           113"
      ]
     },
     "execution_count": 7,
     "metadata": {},
     "output_type": "execute_result"
    }
   ],
   "source": [
    "bitcoin1.head()"
   ]
  },
  {
   "cell_type": "code",
   "execution_count": null,
   "metadata": {},
   "outputs": [],
   "source": []
  }
 ],
 "metadata": {
  "kernelspec": {
   "display_name": "Python [conda env:PythonData] *",
   "language": "python",
   "name": "conda-env-PythonData-py"
  },
  "language_info": {
   "codemirror_mode": {
    "name": "ipython",
    "version": 3
   },
   "file_extension": ".py",
   "mimetype": "text/x-python",
   "name": "python",
   "nbconvert_exporter": "python",
   "pygments_lexer": "ipython3",
   "version": "3.6.10"
  }
 },
 "nbformat": 4,
 "nbformat_minor": 4
}
